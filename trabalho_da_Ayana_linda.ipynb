{
  "nbformat": 4,
  "nbformat_minor": 0,
  "metadata": {
    "colab": {
      "provenance": [],
      "authorship_tag": "ABX9TyNN81hdAtv1hJcehxdjxM5i",
      "include_colab_link": true
    },
    "kernelspec": {
      "name": "python3",
      "display_name": "Python 3"
    },
    "language_info": {
      "name": "python"
    }
  },
  "cells": [
    {
      "cell_type": "markdown",
      "metadata": {
        "id": "view-in-github",
        "colab_type": "text"
      },
      "source": [
        "<a href=\"https://colab.research.google.com/github/Ayanaa2009/ayanaeana/blob/main/trabalho_da_Ayana_linda.ipynb\" target=\"_parent\"><img src=\"https://colab.research.google.com/assets/colab-badge.svg\" alt=\"Open In Colab\"/></a>"
      ]
    },
    {
      "cell_type": "markdown",
      "source": [
        "## aula 1"
      ],
      "metadata": {
        "id": "1G0t5KwEwL1f"
      }
    },
    {
      "cell_type": "code",
      "execution_count": 2,
      "metadata": {
        "colab": {
          "base_uri": "https://localhost:8080/"
        },
        "id": "rn7hauass5QF",
        "outputId": "d6b864b5-f3ed-48da-f8f3-ebbecbc3d682"
      },
      "outputs": [
        {
          "output_type": "stream",
          "name": "stdout",
          "text": [
            "I competição de programação da Start\n"
          ]
        }
      ],
      "source": [
        "print(\"I competição de programação da Start\")"
      ]
    },
    {
      "cell_type": "code",
      "source": [
        "ano = \"II\"\n",
        "\n",
        "print(ano, \"competição de programação da Start\")"
      ],
      "metadata": {
        "colab": {
          "base_uri": "https://localhost:8080/"
        },
        "id": "Ei8HoXy9t0_y",
        "outputId": "ddc3c8dd-c8fb-490c-8751-481665816cd6"
      },
      "execution_count": 3,
      "outputs": [
        {
          "output_type": "stream",
          "name": "stdout",
          "text": [
            "II competição de programação da Start\n"
          ]
        }
      ]
    },
    {
      "cell_type": "code",
      "source": [
        "print(f\"{ano}, competição de programação da Start\")"
      ],
      "metadata": {
        "colab": {
          "base_uri": "https://localhost:8080/"
        },
        "id": "w3nQr_ZvusOv",
        "outputId": "1d0fff58-a6bd-4ad4-fb72-a5d9e5106fcf"
      },
      "execution_count": 4,
      "outputs": [
        {
          "output_type": "stream",
          "name": "stdout",
          "text": [
            "II, competição de programação da Start\n"
          ]
        }
      ]
    },
    {
      "cell_type": "markdown",
      "source": [
        "## aula 2"
      ],
      "metadata": {
        "id": "ViFcGuRjwYNG"
      }
    },
    {
      "cell_type": "markdown",
      "source": [
        "Uma escola está promovendo uma campanha de incentivo à leitura em que cada estudante recebe pontos ao concluir livros. Esses pontos podem ser trocados por diferentes prêmios da escola, e as categorias de livros têm valores de pontos diferentes. Livros de ficção valem 8 pontos, livros de não ficção valem 8 pontos, e livros infantis valem 6 pontos. O problema é que Rodrigo leu um livro de cada categoria e agora quer saber quantos pontos acumulou com sua leitura.\n",
        "livro_ficcao = 8\n",
        "livro_n_ficcao = 8\n",
        "livro_infantil = 6\n",
        "\n"
      ],
      "metadata": {
        "id": "A5PnlPWLwgfn"
      }
    }
  ]
}